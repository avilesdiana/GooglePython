{
 "metadata": {
  "language_info": {
   "codemirror_mode": {
    "name": "ipython",
    "version": 3
   },
   "file_extension": ".py",
   "mimetype": "text/x-python",
   "name": "python",
   "nbconvert_exporter": "python",
   "pygments_lexer": "ipython3",
   "version": "3.9.0-final"
  },
  "orig_nbformat": 2,
  "kernelspec": {
   "name": "python3",
   "display_name": "Python 3.9.0 64-bit",
   "metadata": {
    "interpreter": {
     "hash": "aee8b7b246df8f9039afb4144a1f6fd8d2ca17a180786b69acc140d282b71a49"
    }
   }
  }
 },
 "nbformat": 4,
 "nbformat_minor": 2,
 "cells": [
  {
   "source": [
    "# Inheritance"
   ],
   "cell_type": "markdown",
   "metadata": {}
  },
  {
   "source": [
    "class Fruit:\n",
    "    def __init__(self,color, flavor):\n",
    "        self.color = color\n",
    "        self.flavor = flavor\n",
    "\n",
    "class Apple(Fruit):\n",
    "    pass\n",
    "class Grape(Fruit):\n",
    "    pass\n",
    "\n",
    "granny_smith = Apple(\"green\", \"tart\")\n",
    "carnelian = Grape(\"purple\", \"sweet\")\n",
    "\n",
    "print(granny_smith.flavor)\n",
    "print(carnelian.color)"
   ],
   "cell_type": "code",
   "metadata": {},
   "execution_count": 3,
   "outputs": [
    {
     "output_type": "stream",
     "name": "stdout",
     "text": [
      "tart\npurple\n"
     ]
    }
   ]
  },
  {
   "source": [
    "other example"
   ],
   "cell_type": "markdown",
   "metadata": {}
  },
  {
   "cell_type": "code",
   "execution_count": 2,
   "metadata": {},
   "outputs": [
    {
     "output_type": "stream",
     "name": "stdout",
     "text": [
      "Oink! I'm Hamlet! Oink!\nNone\nMooooooooooo I'm Milky white! Mooooooooooo\nNone\n"
     ]
    }
   ],
   "source": [
    "class Animal:\n",
    "    def __init__(self,name):\n",
    "        self.name = name\n",
    "    def speak(self):\n",
    "        print(\"{sound} I'm {name}! {sound}\". format(name=self.name, sound = self.sound))\n",
    "\n",
    "\n",
    "class Pigglet(Animal):\n",
    "    sound = \"Oink!\"\n",
    "\n",
    "\n",
    "hamlet = Pigglet(\"Hamlet\")\n",
    "print(hamlet.speak())\n",
    "\n",
    "\n",
    "class Cow(Animal):\n",
    "    sound = \"Mooooooooooo\"\n",
    "\n",
    "milky = Cow(\"Milky white\")\n",
    "print(milky.speak())\n",
    "\n",
    "\n"
   ]
  },
  {
   "source": [
    "Other example the Inheritance"
   ],
   "cell_type": "markdown",
   "metadata": {}
  },
  {
   "cell_type": "code",
   "execution_count": 8,
   "metadata": {},
   "outputs": [
    {
     "output_type": "stream",
     "name": "stdout",
     "text": [
      "This Polo is made of Cotton\n"
     ]
    }
   ],
   "source": [
    "class Clothing:\n",
    "  material = \"\"\n",
    "  def __init__(self,name):\n",
    "    self.name = name\n",
    "  def checkmaterial(self):\n",
    "\t  print(\"This {} is made of {}\".format(self.name,self.material))\n",
    "\t\t\t\n",
    "class Shirt(Clothing):\n",
    "  material=\"Cotton\"\n",
    "\n",
    "polo = Shirt(\"Polo\")\n",
    "polo.checkmaterial()"
   ]
  },
  {
   "source": [
    "# Composition"
   ],
   "cell_type": "markdown",
   "metadata": {}
  }
 ]
}